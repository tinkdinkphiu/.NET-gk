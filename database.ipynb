{
    "metadata": {
        "kernelspec": {
            "name": "SQL",
            "display_name": "SQL",
            "language": "sql"
        },
        "language_info": {
            "name": "sql",
            "version": ""
        }
    },
    "nbformat_minor": 2,
    "nbformat": 4,
    "cells": [
        {
            "cell_type": "code",
            "source": [
                "CREATE DATABASE CarRentalDB;\n",
                "GO\n",
                "USE CarRentalDB;\n",
                "GO"
            ],
            "metadata": {
                "azdata_cell_guid": "d6c819b5-e60b-4758-b16e-ace99a17d23f",
                "language": "sql"
            },
            "outputs": [
                {
                    "output_type": "error",
                    "evalue": "Msg 1801, Level 16, State 3, Line 1\r\nDatabase 'CarRentalDB' already exists. Choose a different database name.",
                    "ename": "",
                    "traceback": []
                },
                {
                    "output_type": "display_data",
                    "data": {
                        "text/html": "Commands completed successfully."
                    },
                    "metadata": {}
                },
                {
                    "output_type": "display_data",
                    "data": {
                        "text/html": "Total execution time: 00:00:00.001"
                    },
                    "metadata": {}
                }
            ],
            "execution_count": 100
        },
        {
            "cell_type": "code",
            "source": [
                ""
            ],
            "metadata": {
                "language": "sql",
                "azdata_cell_guid": "76fd9fa5-c9b6-4939-82c4-12370daa387f"
            },
            "outputs": [
                {
                    "output_type": "display_data",
                    "data": {
                        "text/html": "Commands completed successfully."
                    },
                    "metadata": {}
                },
                {
                    "output_type": "display_data",
                    "data": {
                        "text/html": "Total execution time: 00:00:00.028"
                    },
                    "metadata": {}
                }
            ],
            "execution_count": 72
        },
        {
            "cell_type": "code",
            "source": [
                "INSERT INTO DonDatXe_TinhNang (DonDatXeID, TinhNangID) VALUES ( 6 , 7)"
            ],
            "metadata": {
                "azdata_cell_guid": "cd92416b-7fa6-479d-9a06-8d7a61f615a8",
                "language": "sql"
            },
            "outputs": [
                {
                    "output_type": "display_data",
                    "data": {
                        "text/html": "(1 row affected)"
                    },
                    "metadata": {}
                },
                {
                    "output_type": "display_data",
                    "data": {
                        "text/html": "Total execution time: 00:00:00.002"
                    },
                    "metadata": {}
                }
            ],
            "execution_count": 22
        },
        {
            "cell_type": "code",
            "source": [
                "USE BookDb;\r\n",
                "go\r\n",
                "drop database CarRentalDB;\r\n",
                "GO"
            ],
            "metadata": {
                "language": "sql",
                "azdata_cell_guid": "5ad27f19-dad1-4de0-8cd8-5b28c4028772"
            },
            "outputs": [
                {
                    "output_type": "display_data",
                    "data": {
                        "text/html": "Commands completed successfully."
                    },
                    "metadata": {}
                },
                {
                    "output_type": "display_data",
                    "data": {
                        "text/html": "Commands completed successfully."
                    },
                    "metadata": {}
                },
                {
                    "output_type": "display_data",
                    "data": {
                        "text/html": "Total execution time: 00:00:00.021"
                    },
                    "metadata": {}
                }
            ],
            "execution_count": 101
        },
        {
            "cell_type": "code",
            "source": [
                "CREATE TABLE KhachHang\r\n",
                "(\r\n",
                "    KhachHangID INT IDENTITY(1,1) NOT NULL PRIMARY KEY,\r\n",
                "    Ten NVARCHAR(50) NOT NULL,\r\n",
                "    SoDienThoai NVARCHAR(20) NOT NULL,\r\n",
                "    DiaChi NVARCHAR(100),\r\n",
                "    Email NVARCHAR(100)\r\n",
                ")\r\n",
                "GO\r\n",
                ""
            ],
            "metadata": {
                "azdata_cell_guid": "3434ba26-1010-4657-82cb-2f73d5ba2022",
                "language": "sql"
            },
            "outputs": [
                {
                    "output_type": "display_data",
                    "data": {
                        "text/html": "Commands completed successfully."
                    },
                    "metadata": {}
                },
                {
                    "output_type": "display_data",
                    "data": {
                        "text/html": "Total execution time: 00:00:00.004"
                    },
                    "metadata": {}
                }
            ],
            "execution_count": 84
        },
        {
            "cell_type": "code",
            "source": [
                "CREATE TABLE Accounts\r\n",
                "(\r\n",
                "    AccountID INT PRIMARY KEY IDENTITY(1,1),\r\n",
                "    Username NVARCHAR(50) NOT NULL,\r\n",
                "    Password NVARCHAR(255) NOT NULL, \r\n",
                "    Role NVARCHAR(50) NOT NULL\r\n",
                ");"
            ],
            "metadata": {
                "azdata_cell_guid": "8715d5c1-441c-4097-8ca2-f3cd7264ffc7",
                "language": "sql"
            },
            "outputs": [
                {
                    "output_type": "display_data",
                    "data": {
                        "text/html": "Commands completed successfully."
                    },
                    "metadata": {}
                },
                {
                    "output_type": "display_data",
                    "data": {
                        "text/html": "Total execution time: 00:00:00.003"
                    },
                    "metadata": {}
                }
            ],
            "execution_count": 85
        },
        {
            "cell_type": "code",
            "source": [
                "CREATE TABLE XeOto\r\n",
                "(\r\n",
                "    XeOtoID INT IDENTITY(1,1) NOT NULL PRIMARY KEY,\r\n",
                "    HangXe NVARCHAR(50) NOT NULL,\r\n",
                "    Model NVARCHAR(50) NOT NULL,\r\n",
                "    LoaiXe NVARCHAR(50) NOT NULL,\r\n",
                "    TrangThai NVARCHAR(50) NOT NULL,\r\n",
                "    GiaThue DECIMAL(18, 2) NOT NULL,\r\n",
                ");"
            ],
            "metadata": {
                "language": "sql",
                "azdata_cell_guid": "2da93342-f651-441b-977b-001cc7e72a1e",
                "tags": []
            },
            "outputs": [
                {
                    "output_type": "display_data",
                    "data": {
                        "text/html": "Commands completed successfully."
                    },
                    "metadata": {}
                },
                {
                    "output_type": "display_data",
                    "data": {
                        "text/html": "Total execution time: 00:00:00.003"
                    },
                    "metadata": {}
                }
            ],
            "execution_count": 86
        },
        {
            "cell_type": "code",
            "source": [
                ""
            ],
            "metadata": {
                "azdata_cell_guid": "411d274b-6813-4bca-b035-c32a56eb1317",
                "language": "sql"
            },
            "outputs": [
                {
                    "output_type": "error",
                    "evalue": "Msg 1776, Level 16, State 0, Line 1\r\nThere are no primary or candidate keys in the referenced table 'KhachHang' that match the referencing column list in the foreign key 'FK__DonDatXe__KhachH__5812160E'.",
                    "ename": "",
                    "traceback": []
                },
                {
                    "output_type": "error",
                    "evalue": "Msg 1750, Level 16, State 1, Line 1\r\nCould not create constraint or index. See previous errors.",
                    "ename": "",
                    "traceback": []
                },
                {
                    "output_type": "display_data",
                    "data": {
                        "text/html": "Total execution time: 00:00:00.006"
                    },
                    "metadata": {}
                }
            ],
            "execution_count": 67
        },
        {
            "cell_type": "code",
            "source": [
                "-- Chèn dữ liệu giả cho KhachHang\r\n",
                "INSERT INTO KhachHang (Ten, SoDienThoai, DiaChi, Email)\r\n",
                "VALUES\r\n",
                "    (N'Nguyễn Văn A', '0901234567', '123 Đường ABC, Quận 1, TP.HCM', 'nguyenvana@example.com'),\r\n",
                "    (N'Trần Thị B', '0987654321', '456 Đường XYZ, Quận 2, TP.HCM', 'tranthib@example.com'),\r\n",
                "    ( N'Lê Văn C', '0912345678', '789 Đường LMN, Quận 3, TP.HCM', 'levanc@example.com');\r\n",
                ""
            ],
            "metadata": {
                "language": "sql",
                "azdata_cell_guid": "12ddc597-1522-47a6-8730-0bf8e5b5a477",
                "tags": []
            },
            "outputs": [
                {
                    "output_type": "display_data",
                    "data": {
                        "text/html": "(3 rows affected)"
                    },
                    "metadata": {}
                },
                {
                    "output_type": "display_data",
                    "data": {
                        "text/html": "Total execution time: 00:00:00.005"
                    },
                    "metadata": {}
                }
            ],
            "execution_count": 95
        },
        {
            "cell_type": "code",
            "source": [
                "SELECT * FROM kHACHHANG "
            ],
            "metadata": {
                "language": "sql",
                "azdata_cell_guid": "fb69e055-2757-4551-80a4-d7d3c5148159"
            },
            "outputs": [
                {
                    "output_type": "display_data",
                    "data": {
                        "text/html": "(3 rows affected)"
                    },
                    "metadata": {}
                },
                {
                    "output_type": "display_data",
                    "data": {
                        "text/html": "Total execution time: 00:00:00.010"
                    },
                    "metadata": {}
                },
                {
                    "output_type": "execute_result",
                    "metadata": {},
                    "execution_count": 96,
                    "data": {
                        "application/vnd.dataresource+json": {
                            "schema": {
                                "fields": [
                                    {
                                        "name": "KhachHangID"
                                    },
                                    {
                                        "name": "Ten"
                                    },
                                    {
                                        "name": "SoDienThoai"
                                    },
                                    {
                                        "name": "DiaChi"
                                    },
                                    {
                                        "name": "Email"
                                    }
                                ]
                            },
                            "data": [
                                {
                                    "KhachHangID": "1",
                                    "Ten": "Nguyễn Văn A",
                                    "SoDienThoai": "0901234567",
                                    "DiaChi": "123 Ðu?ng ABC, Qu?n 1, TP.HCM",
                                    "Email": "nguyenvana@example.com"
                                },
                                {
                                    "KhachHangID": "2",
                                    "Ten": "Trần Thị B",
                                    "SoDienThoai": "0987654321",
                                    "DiaChi": "456 Ðu?ng XYZ, Qu?n 2, TP.HCM",
                                    "Email": "tranthib@example.com"
                                },
                                {
                                    "KhachHangID": "3",
                                    "Ten": "Lê Văn C",
                                    "SoDienThoai": "0912345678",
                                    "DiaChi": "789 Ðu?ng LMN, Qu?n 3, TP.HCM",
                                    "Email": "levanc@example.com"
                                }
                            ]
                        },
                        "text/html": [
                            "<table>",
                            "<tr><th>KhachHangID</th><th>Ten</th><th>SoDienThoai</th><th>DiaChi</th><th>Email</th></tr>",
                            "<tr><td>1</td><td>Nguyễn Văn A</td><td>0901234567</td><td>123 Ðu?ng ABC, Qu?n 1, TP.HCM</td><td>nguyenvana@example.com</td></tr>",
                            "<tr><td>2</td><td>Trần Thị B</td><td>0987654321</td><td>456 Ðu?ng XYZ, Qu?n 2, TP.HCM</td><td>tranthib@example.com</td></tr>",
                            "<tr><td>3</td><td>Lê Văn C</td><td>0912345678</td><td>789 Ðu?ng LMN, Qu?n 3, TP.HCM</td><td>levanc@example.com</td></tr>",
                            "</table>"
                        ]
                    }
                }
            ],
            "execution_count": 96
        },
        {
            "cell_type": "code",
            "source": [
                "CREATE TABLE DonDatXe\r\n",
                "(\r\n",
                "    DonDatXeID INT IDENTITY(1,1) NOT NULL PRIMARY KEY,\r\n",
                "    KhachHangID INT NOT NULL, -- Thay thế KhachHangID bằng tên bảng tương ứng\r\n",
                "    XeOtoID INT NOT NULL,\r\n",
                "    GiaThue DECIMAL(18, 2) NOT NULL,\r\n",
                "    NhienLieu NVARCHAR(20) NOT NULL,\r\n",
                "    ThoiGianThue DATETIME NOT NULL,\r\n",
                "    TinhTrangThanhToan BIT NOT null,\r\n",
                "    Total DECIMAL(18, 2) DEFAULT 0,\r\n",
                "    ThoiGianTra DATETIME NULL,\r\n",
                "    FOREIGN KEY (KhachHangID) REFERENCES KhachHang (KhachHangID),\r\n",
                "    FOREIGN KEY (XeOtoID) REFERENCES XeOto (XeOtoID)\r\n",
                ");"
            ],
            "metadata": {
                "language": "sql",
                "azdata_cell_guid": "809a1d5d-9c36-44c1-be69-da2a7bbe6498"
            },
            "outputs": [
                {
                    "output_type": "display_data",
                    "data": {
                        "text/html": "Commands completed successfully."
                    },
                    "metadata": {}
                },
                {
                    "output_type": "display_data",
                    "data": {
                        "text/html": "Total execution time: 00:00:00.006"
                    },
                    "metadata": {}
                }
            ],
            "execution_count": 88
        },
        {
            "cell_type": "code",
            "source": [
                "CREATE TABLE TinhNangXe\r\n",
                "(\r\n",
                "    TinhNangID INT PRIMARY KEY IDENTITY(1,1),\r\n",
                "    TenTinhNang NVARCHAR(100) NOT NULL\r\n",
                ");"
            ],
            "metadata": {
                "language": "sql",
                "azdata_cell_guid": "40abea22-e407-439a-a7d1-0d5164f83045"
            },
            "outputs": [
                {
                    "output_type": "display_data",
                    "data": {
                        "text/html": "Commands completed successfully."
                    },
                    "metadata": {}
                },
                {
                    "output_type": "display_data",
                    "data": {
                        "text/html": "Total execution time: 00:00:00.002"
                    },
                    "metadata": {}
                }
            ],
            "execution_count": 89
        },
        {
            "cell_type": "code",
            "source": [
                "-- Bảng kết nối n:n giữa XeOto và TinhNang\r\n",
                "CREATE TABLE DonDatXe_TinhNang\r\n",
                "(\r\n",
                "    DonDatXeID INT NOT NULL,\r\n",
                "    TinhNangID INT NOT NULL,\r\n",
                "    PRIMARY KEY (DonDatXeID, TinhNangID),\r\n",
                "    FOREIGN KEY (DonDatXeID) REFERENCES DonDatXe (DonDatXeID),\r\n",
                "    FOREIGN KEY (TinhNangID) REFERENCES TinhNangXe (TinhNangID)\r\n",
                ");"
            ],
            "metadata": {
                "language": "sql",
                "azdata_cell_guid": "c98e403d-893d-464d-84f1-4824b5362763",
                "tags": []
            },
            "outputs": [
                {
                    "output_type": "display_data",
                    "data": {
                        "text/html": "Commands completed successfully."
                    },
                    "metadata": {}
                },
                {
                    "output_type": "display_data",
                    "data": {
                        "text/html": "Total execution time: 00:00:00.006"
                    },
                    "metadata": {}
                }
            ],
            "execution_count": 91
        },
        {
            "cell_type": "code",
            "source": [
                "-- Tạo dữ liệu cho các tính năng\r\n",
                "INSERT INTO TinhNangXe (TenTinhNang) VALUES\r\n",
                "    (N'Bản đồ'),\r\n",
                "    (N'Camera cập lề'),\r\n",
                "    (N'Cảm biến lốp'),\r\n",
                "    (N'Cửa sổ trời'),\r\n",
                "    (N'Khe cắm USB'),\r\n",
                "    (N'Nắp thùng xe bán tải'),\r\n",
                "    (N'Bluetooth'),\r\n",
                "    (N'Camera hành trình'),\r\n",
                "    (N'Cảm biến va chạm'),\r\n",
                "    (N'Định vị GPS'),\r\n",
                "    (N'Lốp dự phòng'),\r\n",
                "    (N'Camera 360'),\r\n",
                "    (N'Camera lùi'),\r\n",
                "    (N'Cảnh báo tốc độ');\r\n",
                ""
            ],
            "metadata": {
                "language": "sql",
                "azdata_cell_guid": "e3b623cc-eeed-485f-8856-b06a4fdb5fbb"
            },
            "outputs": [
                {
                    "output_type": "display_data",
                    "data": {
                        "text/html": "(14 rows affected)"
                    },
                    "metadata": {}
                },
                {
                    "output_type": "display_data",
                    "data": {
                        "text/html": "Total execution time: 00:00:00.007"
                    },
                    "metadata": {}
                }
            ],
            "execution_count": 92
        },
        {
            "cell_type": "code",
            "source": [
                "SELECT * FROM TinhNangXe"
            ],
            "metadata": {
                "language": "sql",
                "azdata_cell_guid": "75d0b6c3-3b62-4e5e-98db-e8084aba4cea"
            },
            "outputs": [
                {
                    "output_type": "display_data",
                    "data": {
                        "text/html": "(14 rows affected)"
                    },
                    "metadata": {}
                },
                {
                    "output_type": "display_data",
                    "data": {
                        "text/html": "Total execution time: 00:00:00.012"
                    },
                    "metadata": {}
                },
                {
                    "output_type": "execute_result",
                    "metadata": {},
                    "execution_count": 93,
                    "data": {
                        "application/vnd.dataresource+json": {
                            "schema": {
                                "fields": [
                                    {
                                        "name": "TinhNangID"
                                    },
                                    {
                                        "name": "TenTinhNang"
                                    }
                                ]
                            },
                            "data": [
                                {
                                    "TinhNangID": "1",
                                    "TenTinhNang": "Bản đồ"
                                },
                                {
                                    "TinhNangID": "2",
                                    "TenTinhNang": "Camera cập lề"
                                },
                                {
                                    "TinhNangID": "3",
                                    "TenTinhNang": "Cảm biến lốp"
                                },
                                {
                                    "TinhNangID": "4",
                                    "TenTinhNang": "Cửa sổ trời"
                                },
                                {
                                    "TinhNangID": "5",
                                    "TenTinhNang": "Khe cắm USB"
                                },
                                {
                                    "TinhNangID": "6",
                                    "TenTinhNang": "Nắp thùng xe bán tải"
                                },
                                {
                                    "TinhNangID": "7",
                                    "TenTinhNang": "Bluetooth"
                                },
                                {
                                    "TinhNangID": "8",
                                    "TenTinhNang": "Camera hành trình"
                                },
                                {
                                    "TinhNangID": "9",
                                    "TenTinhNang": "Cảm biến va chạm"
                                },
                                {
                                    "TinhNangID": "10",
                                    "TenTinhNang": "Định vị GPS"
                                },
                                {
                                    "TinhNangID": "11",
                                    "TenTinhNang": "Lốp dự phòng"
                                },
                                {
                                    "TinhNangID": "12",
                                    "TenTinhNang": "Camera 360"
                                },
                                {
                                    "TinhNangID": "13",
                                    "TenTinhNang": "Camera lùi"
                                },
                                {
                                    "TinhNangID": "14",
                                    "TenTinhNang": "Cảnh báo tốc độ"
                                }
                            ]
                        },
                        "text/html": [
                            "<table>",
                            "<tr><th>TinhNangID</th><th>TenTinhNang</th></tr>",
                            "<tr><td>1</td><td>Bản đồ</td></tr>",
                            "<tr><td>2</td><td>Camera cập lề</td></tr>",
                            "<tr><td>3</td><td>Cảm biến lốp</td></tr>",
                            "<tr><td>4</td><td>Cửa sổ trời</td></tr>",
                            "<tr><td>5</td><td>Khe cắm USB</td></tr>",
                            "<tr><td>6</td><td>Nắp thùng xe bán tải</td></tr>",
                            "<tr><td>7</td><td>Bluetooth</td></tr>",
                            "<tr><td>8</td><td>Camera hành trình</td></tr>",
                            "<tr><td>9</td><td>Cảm biến va chạm</td></tr>",
                            "<tr><td>10</td><td>Định vị GPS</td></tr>",
                            "<tr><td>11</td><td>Lốp dự phòng</td></tr>",
                            "<tr><td>12</td><td>Camera 360</td></tr>",
                            "<tr><td>13</td><td>Camera lùi</td></tr>",
                            "<tr><td>14</td><td>Cảnh báo tốc độ</td></tr>",
                            "</table>"
                        ]
                    }
                }
            ],
            "execution_count": 93
        },
        {
            "cell_type": "code",
            "source": [
                "-- Tạo dữ liệu ngẫu nhiên cho 100 dòng XeOto\r\n",
                "-- Tạo dữ liệu ngẫu nhiên cho 100 dòng XeOto\r\n",
                "DECLARE @i INT = 1;\r\n",
                "\r\n",
                "WHILE @i <= 100\r\n",
                "BEGIN\r\n",
                "    -- Chọn ngẫu nhiên một hãng xe từ danh sách\r\n",
                "    DECLARE @HangXe NVARCHAR(255);\r\n",
                "    SELECT TOP 1 @HangXe = HangXe\r\n",
                "    FROM (\r\n",
                "        VALUES\r\n",
                "            (N'Toyota'),\r\n",
                "            (N'Chevrolet'),\r\n",
                "            (N'Ford'),\r\n",
                "            (N'Honda'),\r\n",
                "            (N'Hyundai'),\r\n",
                "            (N'Isuzu'),\r\n",
                "            (N'Suzuki'),\r\n",
                "            (N'Kia'),\r\n",
                "            (N'Mitsubishi'),\r\n",
                "            (N'Lexus'),\r\n",
                "            (N'Mazda'),\r\n",
                "            (N'Nissan'),\r\n",
                "            (N'Subaru'),\r\n",
                "            (N'Ssangyong'),\r\n",
                "            (N'Land Rover')\r\n",
                "    ) AS HangXeList (HangXe)\r\n",
                "    ORDER BY NEWID();\r\n",
                "\r\n",
                "    -- Tạo một model ngẫu nhiên\r\n",
                "    DECLARE @Model NVARCHAR(255);\r\n",
                "    SET @Model = 'Model' + CAST(@i AS NVARCHAR(10));\r\n",
                "\r\n",
                "    -- Chọn ngẫu nhiên một loại xe từ danh sách\r\n",
                "    DECLARE @LoaiXe NVARCHAR(255);\r\n",
                "    SELECT TOP 1 @LoaiXe = LoaiXe\r\n",
                "    FROM (\r\n",
                "        VALUES\r\n",
                "            (N'4 cho (Mini)'),\r\n",
                "            (N'4 cho (Sedan)'),\r\n",
                "            (N'4 cho (Hatchback)'),\r\n",
                "            (N'5 cho (CUV Gam cao)'),\r\n",
                "            (N'7 cho (SUV Gam cao)'),\r\n",
                "            (N'7 cho (MPV Gam thap)'),\r\n",
                "            (N'Ban tai')\r\n",
                "    ) AS LoaiXeList (LoaiXe)\r\n",
                "    ORDER BY NEWID();\r\n",
                "\r\n",
                "    -- Chọn ngẫu nhiên một trạng thái\r\n",
                "    DECLARE @TrangThai NVARCHAR(255);\r\n",
                "    SET @TrangThai = IIF(RAND() > 0.5, N'Sẵn sàng', N'Đang cho thuê');\r\n",
                "\r\n",
                "    -- Thêm dòng dữ liệu vào bảng XeOto\r\n",
                "    INSERT INTO XeOto (HangXe, Model, LoaiXe, TrangThai, GiaThue)\r\n",
                "    VALUES (@HangXe, @Model, @LoaiXe, @TrangThai, 13000);\r\n",
                "\r\n",
                "    SET @i = @i + 1;\r\n",
                "END;"
            ],
            "metadata": {
                "language": "sql",
                "azdata_cell_guid": "bbe79f32-9274-4226-acea-516ef7c787d8"
            },
            "outputs": [
                {
                    "output_type": "display_data",
                    "data": {
                        "text/html": "(1 row affected)"
                    },
                    "metadata": {}
                },
                {
                    "output_type": "display_data",
                    "data": {
                        "text/html": "(1 row affected)"
                    },
                    "metadata": {}
                },
                {
                    "output_type": "display_data",
                    "data": {
                        "text/html": "(1 row affected)"
                    },
                    "metadata": {}
                },
                {
                    "output_type": "display_data",
                    "data": {
                        "text/html": "(1 row affected)"
                    },
                    "metadata": {}
                },
                {
                    "output_type": "display_data",
                    "data": {
                        "text/html": "(1 row affected)"
                    },
                    "metadata": {}
                },
                {
                    "output_type": "display_data",
                    "data": {
                        "text/html": "(1 row affected)"
                    },
                    "metadata": {}
                },
                {
                    "output_type": "display_data",
                    "data": {
                        "text/html": "(1 row affected)"
                    },
                    "metadata": {}
                },
                {
                    "output_type": "display_data",
                    "data": {
                        "text/html": "(1 row affected)"
                    },
                    "metadata": {}
                },
                {
                    "output_type": "display_data",
                    "data": {
                        "text/html": "(1 row affected)"
                    },
                    "metadata": {}
                },
                {
                    "output_type": "display_data",
                    "data": {
                        "text/html": "(1 row affected)"
                    },
                    "metadata": {}
                },
                {
                    "output_type": "display_data",
                    "data": {
                        "text/html": "(1 row affected)"
                    },
                    "metadata": {}
                },
                {
                    "output_type": "display_data",
                    "data": {
                        "text/html": "(1 row affected)"
                    },
                    "metadata": {}
                },
                {
                    "output_type": "display_data",
                    "data": {
                        "text/html": "(1 row affected)"
                    },
                    "metadata": {}
                },
                {
                    "output_type": "display_data",
                    "data": {
                        "text/html": "(1 row affected)"
                    },
                    "metadata": {}
                },
                {
                    "output_type": "display_data",
                    "data": {
                        "text/html": "(1 row affected)"
                    },
                    "metadata": {}
                },
                {
                    "output_type": "display_data",
                    "data": {
                        "text/html": "(1 row affected)"
                    },
                    "metadata": {}
                },
                {
                    "output_type": "display_data",
                    "data": {
                        "text/html": "(1 row affected)"
                    },
                    "metadata": {}
                },
                {
                    "output_type": "display_data",
                    "data": {
                        "text/html": "(1 row affected)"
                    },
                    "metadata": {}
                },
                {
                    "output_type": "display_data",
                    "data": {
                        "text/html": "(1 row affected)"
                    },
                    "metadata": {}
                },
                {
                    "output_type": "display_data",
                    "data": {
                        "text/html": "(1 row affected)"
                    },
                    "metadata": {}
                },
                {
                    "output_type": "display_data",
                    "data": {
                        "text/html": "(1 row affected)"
                    },
                    "metadata": {}
                },
                {
                    "output_type": "display_data",
                    "data": {
                        "text/html": "(1 row affected)"
                    },
                    "metadata": {}
                },
                {
                    "output_type": "display_data",
                    "data": {
                        "text/html": "(1 row affected)"
                    },
                    "metadata": {}
                },
                {
                    "output_type": "display_data",
                    "data": {
                        "text/html": "(1 row affected)"
                    },
                    "metadata": {}
                },
                {
                    "output_type": "display_data",
                    "data": {
                        "text/html": "(1 row affected)"
                    },
                    "metadata": {}
                },
                {
                    "output_type": "display_data",
                    "data": {
                        "text/html": "(1 row affected)"
                    },
                    "metadata": {}
                },
                {
                    "output_type": "display_data",
                    "data": {
                        "text/html": "(1 row affected)"
                    },
                    "metadata": {}
                },
                {
                    "output_type": "display_data",
                    "data": {
                        "text/html": "(1 row affected)"
                    },
                    "metadata": {}
                },
                {
                    "output_type": "display_data",
                    "data": {
                        "text/html": "(1 row affected)"
                    },
                    "metadata": {}
                },
                {
                    "output_type": "display_data",
                    "data": {
                        "text/html": "(1 row affected)"
                    },
                    "metadata": {}
                },
                {
                    "output_type": "display_data",
                    "data": {
                        "text/html": "(1 row affected)"
                    },
                    "metadata": {}
                },
                {
                    "output_type": "display_data",
                    "data": {
                        "text/html": "(1 row affected)"
                    },
                    "metadata": {}
                },
                {
                    "output_type": "display_data",
                    "data": {
                        "text/html": "(1 row affected)"
                    },
                    "metadata": {}
                },
                {
                    "output_type": "display_data",
                    "data": {
                        "text/html": "(1 row affected)"
                    },
                    "metadata": {}
                },
                {
                    "output_type": "display_data",
                    "data": {
                        "text/html": "(1 row affected)"
                    },
                    "metadata": {}
                },
                {
                    "output_type": "display_data",
                    "data": {
                        "text/html": "(1 row affected)"
                    },
                    "metadata": {}
                },
                {
                    "output_type": "display_data",
                    "data": {
                        "text/html": "(1 row affected)"
                    },
                    "metadata": {}
                },
                {
                    "output_type": "display_data",
                    "data": {
                        "text/html": "(1 row affected)"
                    },
                    "metadata": {}
                },
                {
                    "output_type": "display_data",
                    "data": {
                        "text/html": "(1 row affected)"
                    },
                    "metadata": {}
                },
                {
                    "output_type": "display_data",
                    "data": {
                        "text/html": "(1 row affected)"
                    },
                    "metadata": {}
                },
                {
                    "output_type": "display_data",
                    "data": {
                        "text/html": "(1 row affected)"
                    },
                    "metadata": {}
                },
                {
                    "output_type": "display_data",
                    "data": {
                        "text/html": "(1 row affected)"
                    },
                    "metadata": {}
                },
                {
                    "output_type": "display_data",
                    "data": {
                        "text/html": "(1 row affected)"
                    },
                    "metadata": {}
                },
                {
                    "output_type": "display_data",
                    "data": {
                        "text/html": "(1 row affected)"
                    },
                    "metadata": {}
                },
                {
                    "output_type": "display_data",
                    "data": {
                        "text/html": "(1 row affected)"
                    },
                    "metadata": {}
                },
                {
                    "output_type": "display_data",
                    "data": {
                        "text/html": "(1 row affected)"
                    },
                    "metadata": {}
                },
                {
                    "output_type": "display_data",
                    "data": {
                        "text/html": "(1 row affected)"
                    },
                    "metadata": {}
                },
                {
                    "output_type": "display_data",
                    "data": {
                        "text/html": "(1 row affected)"
                    },
                    "metadata": {}
                },
                {
                    "output_type": "display_data",
                    "data": {
                        "text/html": "(1 row affected)"
                    },
                    "metadata": {}
                },
                {
                    "output_type": "display_data",
                    "data": {
                        "text/html": "(1 row affected)"
                    },
                    "metadata": {}
                },
                {
                    "output_type": "display_data",
                    "data": {
                        "text/html": "(1 row affected)"
                    },
                    "metadata": {}
                },
                {
                    "output_type": "display_data",
                    "data": {
                        "text/html": "(1 row affected)"
                    },
                    "metadata": {}
                },
                {
                    "output_type": "display_data",
                    "data": {
                        "text/html": "(1 row affected)"
                    },
                    "metadata": {}
                },
                {
                    "output_type": "display_data",
                    "data": {
                        "text/html": "(1 row affected)"
                    },
                    "metadata": {}
                },
                {
                    "output_type": "display_data",
                    "data": {
                        "text/html": "(1 row affected)"
                    },
                    "metadata": {}
                },
                {
                    "output_type": "display_data",
                    "data": {
                        "text/html": "(1 row affected)"
                    },
                    "metadata": {}
                },
                {
                    "output_type": "display_data",
                    "data": {
                        "text/html": "(1 row affected)"
                    },
                    "metadata": {}
                },
                {
                    "output_type": "display_data",
                    "data": {
                        "text/html": "(1 row affected)"
                    },
                    "metadata": {}
                },
                {
                    "output_type": "display_data",
                    "data": {
                        "text/html": "(1 row affected)"
                    },
                    "metadata": {}
                },
                {
                    "output_type": "display_data",
                    "data": {
                        "text/html": "(1 row affected)"
                    },
                    "metadata": {}
                },
                {
                    "output_type": "display_data",
                    "data": {
                        "text/html": "(1 row affected)"
                    },
                    "metadata": {}
                },
                {
                    "output_type": "display_data",
                    "data": {
                        "text/html": "(1 row affected)"
                    },
                    "metadata": {}
                },
                {
                    "output_type": "display_data",
                    "data": {
                        "text/html": "(1 row affected)"
                    },
                    "metadata": {}
                },
                {
                    "output_type": "display_data",
                    "data": {
                        "text/html": "(1 row affected)"
                    },
                    "metadata": {}
                },
                {
                    "output_type": "display_data",
                    "data": {
                        "text/html": "(1 row affected)"
                    },
                    "metadata": {}
                },
                {
                    "output_type": "display_data",
                    "data": {
                        "text/html": "(1 row affected)"
                    },
                    "metadata": {}
                },
                {
                    "output_type": "display_data",
                    "data": {
                        "text/html": "(1 row affected)"
                    },
                    "metadata": {}
                },
                {
                    "output_type": "display_data",
                    "data": {
                        "text/html": "(1 row affected)"
                    },
                    "metadata": {}
                },
                {
                    "output_type": "display_data",
                    "data": {
                        "text/html": "(1 row affected)"
                    },
                    "metadata": {}
                },
                {
                    "output_type": "display_data",
                    "data": {
                        "text/html": "(1 row affected)"
                    },
                    "metadata": {}
                },
                {
                    "output_type": "display_data",
                    "data": {
                        "text/html": "(1 row affected)"
                    },
                    "metadata": {}
                },
                {
                    "output_type": "display_data",
                    "data": {
                        "text/html": "(1 row affected)"
                    },
                    "metadata": {}
                },
                {
                    "output_type": "display_data",
                    "data": {
                        "text/html": "(1 row affected)"
                    },
                    "metadata": {}
                },
                {
                    "output_type": "display_data",
                    "data": {
                        "text/html": "(1 row affected)"
                    },
                    "metadata": {}
                },
                {
                    "output_type": "display_data",
                    "data": {
                        "text/html": "(1 row affected)"
                    },
                    "metadata": {}
                },
                {
                    "output_type": "display_data",
                    "data": {
                        "text/html": "(1 row affected)"
                    },
                    "metadata": {}
                },
                {
                    "output_type": "display_data",
                    "data": {
                        "text/html": "(1 row affected)"
                    },
                    "metadata": {}
                },
                {
                    "output_type": "display_data",
                    "data": {
                        "text/html": "(1 row affected)"
                    },
                    "metadata": {}
                },
                {
                    "output_type": "display_data",
                    "data": {
                        "text/html": "(1 row affected)"
                    },
                    "metadata": {}
                },
                {
                    "output_type": "display_data",
                    "data": {
                        "text/html": "(1 row affected)"
                    },
                    "metadata": {}
                },
                {
                    "output_type": "display_data",
                    "data": {
                        "text/html": "(1 row affected)"
                    },
                    "metadata": {}
                },
                {
                    "output_type": "display_data",
                    "data": {
                        "text/html": "(1 row affected)"
                    },
                    "metadata": {}
                },
                {
                    "output_type": "display_data",
                    "data": {
                        "text/html": "(1 row affected)"
                    },
                    "metadata": {}
                },
                {
                    "output_type": "display_data",
                    "data": {
                        "text/html": "(1 row affected)"
                    },
                    "metadata": {}
                },
                {
                    "output_type": "display_data",
                    "data": {
                        "text/html": "(1 row affected)"
                    },
                    "metadata": {}
                },
                {
                    "output_type": "display_data",
                    "data": {
                        "text/html": "(1 row affected)"
                    },
                    "metadata": {}
                },
                {
                    "output_type": "display_data",
                    "data": {
                        "text/html": "(1 row affected)"
                    },
                    "metadata": {}
                },
                {
                    "output_type": "display_data",
                    "data": {
                        "text/html": "(1 row affected)"
                    },
                    "metadata": {}
                },
                {
                    "output_type": "display_data",
                    "data": {
                        "text/html": "(1 row affected)"
                    },
                    "metadata": {}
                },
                {
                    "output_type": "display_data",
                    "data": {
                        "text/html": "(1 row affected)"
                    },
                    "metadata": {}
                },
                {
                    "output_type": "display_data",
                    "data": {
                        "text/html": "(1 row affected)"
                    },
                    "metadata": {}
                },
                {
                    "output_type": "display_data",
                    "data": {
                        "text/html": "(1 row affected)"
                    },
                    "metadata": {}
                },
                {
                    "output_type": "display_data",
                    "data": {
                        "text/html": "(1 row affected)"
                    },
                    "metadata": {}
                },
                {
                    "output_type": "display_data",
                    "data": {
                        "text/html": "(1 row affected)"
                    },
                    "metadata": {}
                },
                {
                    "output_type": "display_data",
                    "data": {
                        "text/html": "(1 row affected)"
                    },
                    "metadata": {}
                },
                {
                    "output_type": "display_data",
                    "data": {
                        "text/html": "(1 row affected)"
                    },
                    "metadata": {}
                },
                {
                    "output_type": "display_data",
                    "data": {
                        "text/html": "(1 row affected)"
                    },
                    "metadata": {}
                },
                {
                    "output_type": "display_data",
                    "data": {
                        "text/html": "(1 row affected)"
                    },
                    "metadata": {}
                },
                {
                    "output_type": "display_data",
                    "data": {
                        "text/html": "(1 row affected)"
                    },
                    "metadata": {}
                },
                {
                    "output_type": "display_data",
                    "data": {
                        "text/html": "(1 row affected)"
                    },
                    "metadata": {}
                },
                {
                    "output_type": "display_data",
                    "data": {
                        "text/html": "Total execution time: 00:00:00.021"
                    },
                    "metadata": {}
                }
            ],
            "execution_count": 94
        }
    ]
}