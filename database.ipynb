{
    "cells": [
        {
            "cell_type": "code",
            "execution_count": 12,
            "metadata": {
                "azdata_cell_guid": "d6c819b5-e60b-4758-b16e-ace99a17d23f",
                "language": "sql"
            },
            "outputs": [
                {
                    "data": {
                        "text/html": [
                            "Commands completed successfully."
                        ]
                    },
                    "metadata": {},
                    "output_type": "display_data"
                },
                {
                    "data": {
                        "text/html": [
                            "Total execution time: 00:00:00.116"
                        ]
                    },
                    "metadata": {},
                    "output_type": "display_data"
                }
            ],
            "source": [
                "CREATE DATABASE CarRentalDB;\n"
            ]
        },
        {
            "cell_type": "code",
            "execution_count": 13,
            "metadata": {
                "azdata_cell_guid": "76fd9fa5-c9b6-4939-82c4-12370daa387f",
                "language": "sql"
            },
            "outputs": [
                {
                    "data": {
                        "text/html": [
                            "Commands completed successfully."
                        ]
                    },
                    "metadata": {},
                    "output_type": "display_data"
                },
                {
                    "data": {
                        "text/html": [
                            "Total execution time: 00:00:00.031"
                        ]
                    },
                    "metadata": {},
                    "output_type": "display_data"
                }
            ],
            "source": [
                "USE CarRentalDB;"
            ]
        },
        {
            "cell_type": "code",
            "execution_count": 11,
            "metadata": {
                "azdata_cell_guid": "e87d8352-db98-4b69-9038-7fa27d8bac00",
                "language": "sql"
            },
            "outputs": [
                {
                    "data": {
                        "text/html": [
                            "Commands completed successfully."
                        ]
                    },
                    "metadata": {},
                    "output_type": "display_data"
                },
                {
                    "data": {
                        "text/html": [
                            "Total execution time: 00:00:00.078"
                        ]
                    },
                    "metadata": {},
                    "output_type": "display_data"
                }
            ],
            "source": [
                "drop database CarRentalDB;"
            ]
        },
        {
            "cell_type": "code",
            "execution_count": 14,
            "metadata": {
                "azdata_cell_guid": "8715d5c1-441c-4097-8ca2-f3cd7264ffc7",
                "language": "sql"
            },
            "outputs": [
                {
                    "data": {
                        "text/html": [
                            "Commands completed successfully."
                        ]
                    },
                    "metadata": {},
                    "output_type": "display_data"
                },
                {
                    "data": {
                        "text/html": [
                            "Total execution time: 00:00:00.007"
                        ]
                    },
                    "metadata": {},
                    "output_type": "display_data"
                }
            ],
            "source": [
                "CREATE TABLE Accounts\n",
                "(\n",
                "    AccountID INT PRIMARY KEY IDENTITY(1,1),\n",
                "    Username NVARCHAR(50) NOT NULL,\n",
                "    Password NVARCHAR(255) NOT NULL, \n",
                "    Role NVARCHAR(50) NOT NULL\n",
                ");"
            ]
        },
        {
            "cell_type": "code",
            "execution_count": 15,
            "metadata": {
                "azdata_cell_guid": "2da93342-f651-441b-977b-001cc7e72a1e",
                "language": "sql"
            },
            "outputs": [
                {
                    "data": {
                        "text/html": [
                            "Commands completed successfully."
                        ]
                    },
                    "metadata": {},
                    "output_type": "display_data"
                },
                {
                    "data": {
                        "text/html": [
                            "Total execution time: 00:00:00.003"
                        ]
                    },
                    "metadata": {},
                    "output_type": "display_data"
                }
            ],
            "source": [
                "CREATE TABLE XeOto\n",
                "(\n",
                "    XeOtoID INT PRIMARY KEY IDENTITY(1,1),\n",
                "    HangXe NVARCHAR(50) NOT NULL,\n",
                "    Model NVARCHAR(50) NOT NULL,\n",
                "    LoaiXe NVARCHAR(50) NOT NULL,\n",
                "    TrangThai NVARCHAR(50) NOT NULL,\n",
                "    GiaThue DECIMAL(18, 2) NOT NULL,\n",
                ");"
            ]
        },
        {
            "cell_type": "code",
            "execution_count": 8,
            "metadata": {
                "azdata_cell_guid": "968a6485-033e-4954-86d0-58b70747a3ff",
                "language": "sql"
            },
            "outputs": [
                {
                    "data": {
                        "text/html": [
                            "(100 rows affected)"
                        ]
                    },
                    "metadata": {},
                    "output_type": "display_data"
                },
                {
                    "data": {
                        "text/html": [
                            "Total execution time: 00:00:00.018"
                        ]
                    },
                    "metadata": {},
                    "output_type": "display_data"
                }
            ],
            "source": [
                "DELETE FROM XeOto;"
            ]
        },
        {
            "cell_type": "code",
            "execution_count": 16,
            "metadata": {
                "azdata_cell_guid": "fcf3c30a-34a8-4b45-a38b-143b2cd4ac4f",
                "language": "sql"
            },
            "outputs": [
                {
                    "data": {
                        "text/html": [
                            "Commands completed successfully."
                        ]
                    },
                    "metadata": {},
                    "output_type": "display_data"
                },
                {
                    "data": {
                        "text/html": [
                            "Total execution time: 00:00:00.002"
                        ]
                    },
                    "metadata": {},
                    "output_type": "display_data"
                }
            ],
            "source": [
                "-- Bảng cho thông tin khách hàng\n",
                "CREATE TABLE KhachHang\n",
                "(\n",
                "    KhachHangID INT PRIMARY KEY IDENTITY(1,1),\n",
                "    Ten NVARCHAR(50) NOT NULL,\n",
                "    SoDienThoai NVARCHAR(20) NOT NULL,\n",
                "    DiaChi NVARCHAR(100),\n",
                "    Email NVARCHAR(100)\n",
                ");\n"
            ]
        },
        {
            "cell_type": "code",
            "execution_count": 8,
            "metadata": {
                "azdata_cell_guid": "809a1d5d-9c36-44c1-be69-da2a7bbe6498",
                "language": "sql"
            },
            "outputs": [
                {
                    "data": {
                        "text/html": [
                            "Commands completed successfully."
                        ]
                    },
                    "metadata": {},
                    "output_type": "display_data"
                },
                {
                    "data": {
                        "text/html": [
                            "Total execution time: 00:00:00.004"
                        ]
                    },
                    "metadata": {},
                    "output_type": "display_data"
                }
            ],
            "source": [
                "CREATE TABLE DonDatXe\n",
                "(\n",
                "    DonDatXeID INT PRIMARY KEY IDENTITY(1,1),\n",
                "    KhachHangID INT NOT NULL, -- Thay thế KhachHangID bằng tên bảng tương ứng\n",
                "    XeOtoID INT NOT NULL,\n",
                "    GiaThue DECIMAL(18, 2) INT NOT NULL,\n",
                "    NhienLieu NVARCHAR(20) NOT NULL,\n",
                "    ThoiGianThue DATETIME NOT NULL,\n",
                "    FOREIGN KEY (KhachHangID) REFERENCES KhachHang (KhachHangID),\n",
                "    FOREIGN KEY (XeOtoID) REFERENCES XeOto (XeOtoID)\n",
                ");"
            ]
        },
        {
            "cell_type": "code",
            "execution_count": 9,
            "metadata": {
                "azdata_cell_guid": "36e5a57a-6edb-4053-9382-51c41f76e0f6",
                "language": "sql"
            },
            "outputs": [
                {
                    "data": {
                        "text/html": [
                            "Commands completed successfully."
                        ]
                    },
                    "metadata": {},
                    "output_type": "display_data"
                },
                {
                    "data": {
                        "text/html": [
                            "Total execution time: 00:00:00.005"
                        ]
                    },
                    "metadata": {},
                    "output_type": "display_data"
                }
            ],
            "source": [
                "CREATE TABLE LoaiXe\n",
                "(\n",
                "    LoaiXeID INT PRIMARY KEY IDENTITY(1,1),\n",
                "    TenLoaiXe NVARCHAR(50) NOT NULL\n",
                ");"
            ]
        },
        {
            "cell_type": "code",
            "execution_count": 10,
            "metadata": {
                "azdata_cell_guid": "40abea22-e407-439a-a7d1-0d5164f83045",
                "language": "sql"
            },
            "outputs": [
                {
                    "data": {
                        "text/html": [
                            "Commands completed successfully."
                        ]
                    },
                    "metadata": {},
                    "output_type": "display_data"
                },
                {
                    "data": {
                        "text/html": [
                            "Total execution time: 00:00:00.002"
                        ]
                    },
                    "metadata": {},
                    "output_type": "display_data"
                }
            ],
            "source": [
                "CREATE TABLE TinhNangXe\n",
                "(\n",
                "    TinhNangID INT PRIMARY KEY IDENTITY(1,1),\n",
                "    TenTinhNang NVARCHAR(100) NOT NULL\n",
                ");"
            ]
        },
        {
            "cell_type": "code",
            "execution_count": 11,
            "metadata": {
                "azdata_cell_guid": "c98e403d-893d-464d-84f1-4824b5362763",
                "language": "sql"
            },
            "outputs": [
                {
                    "data": {
                        "text/html": [
                            "Commands completed successfully."
                        ]
                    },
                    "metadata": {},
                    "output_type": "display_data"
                },
                {
                    "data": {
                        "text/html": [
                            "Total execution time: 00:00:00.004"
                        ]
                    },
                    "metadata": {},
                    "output_type": "display_data"
                }
            ],
            "source": [
                "-- Bảng kết nối n:n giữa XeOto và TinhNang\n",
                "CREATE TABLE DonDatXe_TinhNang\n",
                "(\n",
                "    DonDatXeID INT NOT NULL,\n",
                "    TinhNangID INT NOT NULL,\n",
                "    PRIMARY KEY (DonDatXeID, TinhNangID),\n",
                "    FOREIGN KEY (DonDatXeID) REFERENCES DonDatXe (DonDatXeID),\n",
                "    FOREIGN KEY (TinhNangID) REFERENCES TinhNangXe (TinhNangID)\n",
                ");"
            ]
        },
        {
            "cell_type": "code",
            "execution_count": 4,
            "metadata": {
                "azdata_cell_guid": "e3b623cc-eeed-485f-8856-b06a4fdb5fbb",
                "language": "sql"
            },
            "outputs": [
                {
                    "data": {
                        "text/html": [
                            "(14 rows affected)"
                        ]
                    },
                    "metadata": {},
                    "output_type": "display_data"
                },
                {
                    "data": {
                        "text/html": [
                            "Total execution time: 00:00:00.006"
                        ]
                    },
                    "metadata": {},
                    "output_type": "display_data"
                }
            ],
            "source": [
                "-- Tạo dữ liệu cho các tính năng\n",
                "INSERT INTO TinhNangXe (TenTinhNang) VALUES\n",
                "    (N'Bản đồ'),\n",
                "    (N'Camera cập lề'),\n",
                "    (N'Cảm biến lốp'),\n",
                "    (N'Cửa sổ trời'),\n",
                "    (N'Khe cắm USB'),\n",
                "    (N'Nắp thùng xe bán tải'),\n",
                "    (N'Bluetooth'),\n",
                "    (N'Camera hành trình'),\n",
                "    (N'Cảm biến va chạm'),\n",
                "    (N'Định vị GPS'),\n",
                "    (N'Lốp dự phòng'),\n",
                "    (N'Camera 360'),\n",
                "    (N'Camera lùi'),\n",
                "    (N'Cảnh báo tốc độ');\n"
            ]
        },
        {
            "cell_type": "code",
            "execution_count": 3,
            "metadata": {
                "azdata_cell_guid": "75d0b6c3-3b62-4e5e-98db-e8084aba4cea",
                "language": "sql"
            },
            "outputs": [
                {
                    "data": {
                        "text/html": [
                            "(14 rows affected)"
                        ]
                    },
                    "metadata": {},
                    "output_type": "display_data"
                },
                {
                    "data": {
                        "text/html": [
                            "Total execution time: 00:00:00.059"
                        ]
                    },
                    "metadata": {},
                    "output_type": "display_data"
                },
                {
                    "data": {
                        "application/vnd.dataresource+json": {
                            "data": [
                                {
                                    "TenTinhNang": "Bản đồ",
                                    "TinhNangID": "15"
                                },
                                {
                                    "TenTinhNang": "Camera cập lề",
                                    "TinhNangID": "16"
                                },
                                {
                                    "TenTinhNang": "Cảm biến lốp",
                                    "TinhNangID": "17"
                                },
                                {
                                    "TenTinhNang": "Cửa sổ trời",
                                    "TinhNangID": "18"
                                },
                                {
                                    "TenTinhNang": "Khe cắm USB",
                                    "TinhNangID": "19"
                                },
                                {
                                    "TenTinhNang": "Nắp thùng xe bán tải",
                                    "TinhNangID": "20"
                                },
                                {
                                    "TenTinhNang": "Bluetooth",
                                    "TinhNangID": "21"
                                },
                                {
                                    "TenTinhNang": "Camera hành trình",
                                    "TinhNangID": "22"
                                },
                                {
                                    "TenTinhNang": "Cảm biến va chạm",
                                    "TinhNangID": "23"
                                },
                                {
                                    "TenTinhNang": "Định vị GPS",
                                    "TinhNangID": "24"
                                },
                                {
                                    "TenTinhNang": "Lốp dự phòng",
                                    "TinhNangID": "25"
                                },
                                {
                                    "TenTinhNang": "Camera 360",
                                    "TinhNangID": "26"
                                },
                                {
                                    "TenTinhNang": "Camera lùi",
                                    "TinhNangID": "27"
                                },
                                {
                                    "TenTinhNang": "Cảnh báo tốc độ",
                                    "TinhNangID": "28"
                                }
                            ],
                            "schema": {
                                "fields": [
                                    {
                                        "name": "TinhNangID"
                                    },
                                    {
                                        "name": "TenTinhNang"
                                    }
                                ]
                            }
                        },
                        "text/html": [
                            "<table>\n",
                            "<tr><th>TinhNangID</th><th>TenTinhNang</th></tr>\n",
                            "<tr><td>15</td><td>Bản đồ</td></tr>\n",
                            "<tr><td>16</td><td>Camera cập lề</td></tr>\n",
                            "<tr><td>17</td><td>Cảm biến lốp</td></tr>\n",
                            "<tr><td>18</td><td>Cửa sổ trời</td></tr>\n",
                            "<tr><td>19</td><td>Khe cắm USB</td></tr>\n",
                            "<tr><td>20</td><td>Nắp thùng xe bán tải</td></tr>\n",
                            "<tr><td>21</td><td>Bluetooth</td></tr>\n",
                            "<tr><td>22</td><td>Camera hành trình</td></tr>\n",
                            "<tr><td>23</td><td>Cảm biến va chạm</td></tr>\n",
                            "<tr><td>24</td><td>Định vị GPS</td></tr>\n",
                            "<tr><td>25</td><td>Lốp dự phòng</td></tr>\n",
                            "<tr><td>26</td><td>Camera 360</td></tr>\n",
                            "<tr><td>27</td><td>Camera lùi</td></tr>\n",
                            "<tr><td>28</td><td>Cảnh báo tốc độ</td></tr>\n",
                            "</table>"
                        ]
                    },
                    "execution_count": 3,
                    "metadata": {},
                    "output_type": "execute_result"
                }
            ],
            "source": [
                "SELECT * FROM TinhNangXe"
            ]
        },
        {
            "cell_type": "code",
            "execution_count": 5,
            "metadata": {
                "azdata_cell_guid": "bbe79f32-9274-4226-acea-516ef7c787d8",
                "language": "sql"
            },
            "outputs": [
                {
                    "data": {
                        "text/html": [
                            "(1 row affected)"
                        ]
                    },
                    "metadata": {},
                    "output_type": "display_data"
                },
                {
                    "data": {
                        "text/html": [
                            "(1 row affected)"
                        ]
                    },
                    "metadata": {},
                    "output_type": "display_data"
                },
                {
                    "data": {
                        "text/html": [
                            "(1 row affected)"
                        ]
                    },
                    "metadata": {},
                    "output_type": "display_data"
                },
                {
                    "data": {
                        "text/html": [
                            "(1 row affected)"
                        ]
                    },
                    "metadata": {},
                    "output_type": "display_data"
                },
                {
                    "data": {
                        "text/html": [
                            "(1 row affected)"
                        ]
                    },
                    "metadata": {},
                    "output_type": "display_data"
                },
                {
                    "data": {
                        "text/html": [
                            "(1 row affected)"
                        ]
                    },
                    "metadata": {},
                    "output_type": "display_data"
                },
                {
                    "data": {
                        "text/html": [
                            "(1 row affected)"
                        ]
                    },
                    "metadata": {},
                    "output_type": "display_data"
                },
                {
                    "data": {
                        "text/html": [
                            "(1 row affected)"
                        ]
                    },
                    "metadata": {},
                    "output_type": "display_data"
                },
                {
                    "data": {
                        "text/html": [
                            "(1 row affected)"
                        ]
                    },
                    "metadata": {},
                    "output_type": "display_data"
                },
                {
                    "data": {
                        "text/html": [
                            "(1 row affected)"
                        ]
                    },
                    "metadata": {},
                    "output_type": "display_data"
                },
                {
                    "data": {
                        "text/html": [
                            "(1 row affected)"
                        ]
                    },
                    "metadata": {},
                    "output_type": "display_data"
                },
                {
                    "data": {
                        "text/html": [
                            "(1 row affected)"
                        ]
                    },
                    "metadata": {},
                    "output_type": "display_data"
                },
                {
                    "data": {
                        "text/html": [
                            "(1 row affected)"
                        ]
                    },
                    "metadata": {},
                    "output_type": "display_data"
                },
                {
                    "data": {
                        "text/html": [
                            "(1 row affected)"
                        ]
                    },
                    "metadata": {},
                    "output_type": "display_data"
                },
                {
                    "data": {
                        "text/html": [
                            "(1 row affected)"
                        ]
                    },
                    "metadata": {},
                    "output_type": "display_data"
                },
                {
                    "data": {
                        "text/html": [
                            "(1 row affected)"
                        ]
                    },
                    "metadata": {},
                    "output_type": "display_data"
                },
                {
                    "data": {
                        "text/html": [
                            "(1 row affected)"
                        ]
                    },
                    "metadata": {},
                    "output_type": "display_data"
                },
                {
                    "data": {
                        "text/html": [
                            "(1 row affected)"
                        ]
                    },
                    "metadata": {},
                    "output_type": "display_data"
                },
                {
                    "data": {
                        "text/html": [
                            "(1 row affected)"
                        ]
                    },
                    "metadata": {},
                    "output_type": "display_data"
                },
                {
                    "data": {
                        "text/html": [
                            "(1 row affected)"
                        ]
                    },
                    "metadata": {},
                    "output_type": "display_data"
                },
                {
                    "data": {
                        "text/html": [
                            "(1 row affected)"
                        ]
                    },
                    "metadata": {},
                    "output_type": "display_data"
                },
                {
                    "data": {
                        "text/html": [
                            "(1 row affected)"
                        ]
                    },
                    "metadata": {},
                    "output_type": "display_data"
                },
                {
                    "data": {
                        "text/html": [
                            "(1 row affected)"
                        ]
                    },
                    "metadata": {},
                    "output_type": "display_data"
                },
                {
                    "data": {
                        "text/html": [
                            "(1 row affected)"
                        ]
                    },
                    "metadata": {},
                    "output_type": "display_data"
                },
                {
                    "data": {
                        "text/html": [
                            "(1 row affected)"
                        ]
                    },
                    "metadata": {},
                    "output_type": "display_data"
                },
                {
                    "data": {
                        "text/html": [
                            "(1 row affected)"
                        ]
                    },
                    "metadata": {},
                    "output_type": "display_data"
                },
                {
                    "data": {
                        "text/html": [
                            "(1 row affected)"
                        ]
                    },
                    "metadata": {},
                    "output_type": "display_data"
                },
                {
                    "data": {
                        "text/html": [
                            "(1 row affected)"
                        ]
                    },
                    "metadata": {},
                    "output_type": "display_data"
                },
                {
                    "data": {
                        "text/html": [
                            "(1 row affected)"
                        ]
                    },
                    "metadata": {},
                    "output_type": "display_data"
                },
                {
                    "data": {
                        "text/html": [
                            "(1 row affected)"
                        ]
                    },
                    "metadata": {},
                    "output_type": "display_data"
                },
                {
                    "data": {
                        "text/html": [
                            "(1 row affected)"
                        ]
                    },
                    "metadata": {},
                    "output_type": "display_data"
                },
                {
                    "data": {
                        "text/html": [
                            "(1 row affected)"
                        ]
                    },
                    "metadata": {},
                    "output_type": "display_data"
                },
                {
                    "data": {
                        "text/html": [
                            "(1 row affected)"
                        ]
                    },
                    "metadata": {},
                    "output_type": "display_data"
                },
                {
                    "data": {
                        "text/html": [
                            "(1 row affected)"
                        ]
                    },
                    "metadata": {},
                    "output_type": "display_data"
                },
                {
                    "data": {
                        "text/html": [
                            "(1 row affected)"
                        ]
                    },
                    "metadata": {},
                    "output_type": "display_data"
                },
                {
                    "data": {
                        "text/html": [
                            "(1 row affected)"
                        ]
                    },
                    "metadata": {},
                    "output_type": "display_data"
                },
                {
                    "data": {
                        "text/html": [
                            "(1 row affected)"
                        ]
                    },
                    "metadata": {},
                    "output_type": "display_data"
                },
                {
                    "data": {
                        "text/html": [
                            "(1 row affected)"
                        ]
                    },
                    "metadata": {},
                    "output_type": "display_data"
                },
                {
                    "data": {
                        "text/html": [
                            "(1 row affected)"
                        ]
                    },
                    "metadata": {},
                    "output_type": "display_data"
                },
                {
                    "data": {
                        "text/html": [
                            "(1 row affected)"
                        ]
                    },
                    "metadata": {},
                    "output_type": "display_data"
                },
                {
                    "data": {
                        "text/html": [
                            "(1 row affected)"
                        ]
                    },
                    "metadata": {},
                    "output_type": "display_data"
                },
                {
                    "data": {
                        "text/html": [
                            "(1 row affected)"
                        ]
                    },
                    "metadata": {},
                    "output_type": "display_data"
                },
                {
                    "data": {
                        "text/html": [
                            "(1 row affected)"
                        ]
                    },
                    "metadata": {},
                    "output_type": "display_data"
                },
                {
                    "data": {
                        "text/html": [
                            "(1 row affected)"
                        ]
                    },
                    "metadata": {},
                    "output_type": "display_data"
                },
                {
                    "data": {
                        "text/html": [
                            "(1 row affected)"
                        ]
                    },
                    "metadata": {},
                    "output_type": "display_data"
                },
                {
                    "data": {
                        "text/html": [
                            "(1 row affected)"
                        ]
                    },
                    "metadata": {},
                    "output_type": "display_data"
                },
                {
                    "data": {
                        "text/html": [
                            "(1 row affected)"
                        ]
                    },
                    "metadata": {},
                    "output_type": "display_data"
                },
                {
                    "data": {
                        "text/html": [
                            "(1 row affected)"
                        ]
                    },
                    "metadata": {},
                    "output_type": "display_data"
                },
                {
                    "data": {
                        "text/html": [
                            "(1 row affected)"
                        ]
                    },
                    "metadata": {},
                    "output_type": "display_data"
                },
                {
                    "data": {
                        "text/html": [
                            "(1 row affected)"
                        ]
                    },
                    "metadata": {},
                    "output_type": "display_data"
                },
                {
                    "data": {
                        "text/html": [
                            "(1 row affected)"
                        ]
                    },
                    "metadata": {},
                    "output_type": "display_data"
                },
                {
                    "data": {
                        "text/html": [
                            "(1 row affected)"
                        ]
                    },
                    "metadata": {},
                    "output_type": "display_data"
                },
                {
                    "data": {
                        "text/html": [
                            "(1 row affected)"
                        ]
                    },
                    "metadata": {},
                    "output_type": "display_data"
                },
                {
                    "data": {
                        "text/html": [
                            "(1 row affected)"
                        ]
                    },
                    "metadata": {},
                    "output_type": "display_data"
                },
                {
                    "data": {
                        "text/html": [
                            "(1 row affected)"
                        ]
                    },
                    "metadata": {},
                    "output_type": "display_data"
                },
                {
                    "data": {
                        "text/html": [
                            "(1 row affected)"
                        ]
                    },
                    "metadata": {},
                    "output_type": "display_data"
                },
                {
                    "data": {
                        "text/html": [
                            "(1 row affected)"
                        ]
                    },
                    "metadata": {},
                    "output_type": "display_data"
                },
                {
                    "data": {
                        "text/html": [
                            "(1 row affected)"
                        ]
                    },
                    "metadata": {},
                    "output_type": "display_data"
                },
                {
                    "data": {
                        "text/html": [
                            "(1 row affected)"
                        ]
                    },
                    "metadata": {},
                    "output_type": "display_data"
                },
                {
                    "data": {
                        "text/html": [
                            "(1 row affected)"
                        ]
                    },
                    "metadata": {},
                    "output_type": "display_data"
                },
                {
                    "data": {
                        "text/html": [
                            "(1 row affected)"
                        ]
                    },
                    "metadata": {},
                    "output_type": "display_data"
                },
                {
                    "data": {
                        "text/html": [
                            "(1 row affected)"
                        ]
                    },
                    "metadata": {},
                    "output_type": "display_data"
                },
                {
                    "data": {
                        "text/html": [
                            "(1 row affected)"
                        ]
                    },
                    "metadata": {},
                    "output_type": "display_data"
                },
                {
                    "data": {
                        "text/html": [
                            "(1 row affected)"
                        ]
                    },
                    "metadata": {},
                    "output_type": "display_data"
                },
                {
                    "data": {
                        "text/html": [
                            "(1 row affected)"
                        ]
                    },
                    "metadata": {},
                    "output_type": "display_data"
                },
                {
                    "data": {
                        "text/html": [
                            "(1 row affected)"
                        ]
                    },
                    "metadata": {},
                    "output_type": "display_data"
                },
                {
                    "data": {
                        "text/html": [
                            "(1 row affected)"
                        ]
                    },
                    "metadata": {},
                    "output_type": "display_data"
                },
                {
                    "data": {
                        "text/html": [
                            "(1 row affected)"
                        ]
                    },
                    "metadata": {},
                    "output_type": "display_data"
                },
                {
                    "data": {
                        "text/html": [
                            "(1 row affected)"
                        ]
                    },
                    "metadata": {},
                    "output_type": "display_data"
                },
                {
                    "data": {
                        "text/html": [
                            "(1 row affected)"
                        ]
                    },
                    "metadata": {},
                    "output_type": "display_data"
                },
                {
                    "data": {
                        "text/html": [
                            "(1 row affected)"
                        ]
                    },
                    "metadata": {},
                    "output_type": "display_data"
                },
                {
                    "data": {
                        "text/html": [
                            "(1 row affected)"
                        ]
                    },
                    "metadata": {},
                    "output_type": "display_data"
                },
                {
                    "data": {
                        "text/html": [
                            "(1 row affected)"
                        ]
                    },
                    "metadata": {},
                    "output_type": "display_data"
                },
                {
                    "data": {
                        "text/html": [
                            "(1 row affected)"
                        ]
                    },
                    "metadata": {},
                    "output_type": "display_data"
                },
                {
                    "data": {
                        "text/html": [
                            "(1 row affected)"
                        ]
                    },
                    "metadata": {},
                    "output_type": "display_data"
                },
                {
                    "data": {
                        "text/html": [
                            "(1 row affected)"
                        ]
                    },
                    "metadata": {},
                    "output_type": "display_data"
                },
                {
                    "data": {
                        "text/html": [
                            "(1 row affected)"
                        ]
                    },
                    "metadata": {},
                    "output_type": "display_data"
                },
                {
                    "data": {
                        "text/html": [
                            "(1 row affected)"
                        ]
                    },
                    "metadata": {},
                    "output_type": "display_data"
                },
                {
                    "data": {
                        "text/html": [
                            "(1 row affected)"
                        ]
                    },
                    "metadata": {},
                    "output_type": "display_data"
                },
                {
                    "data": {
                        "text/html": [
                            "(1 row affected)"
                        ]
                    },
                    "metadata": {},
                    "output_type": "display_data"
                },
                {
                    "data": {
                        "text/html": [
                            "(1 row affected)"
                        ]
                    },
                    "metadata": {},
                    "output_type": "display_data"
                },
                {
                    "data": {
                        "text/html": [
                            "(1 row affected)"
                        ]
                    },
                    "metadata": {},
                    "output_type": "display_data"
                },
                {
                    "data": {
                        "text/html": [
                            "(1 row affected)"
                        ]
                    },
                    "metadata": {},
                    "output_type": "display_data"
                },
                {
                    "data": {
                        "text/html": [
                            "(1 row affected)"
                        ]
                    },
                    "metadata": {},
                    "output_type": "display_data"
                },
                {
                    "data": {
                        "text/html": [
                            "(1 row affected)"
                        ]
                    },
                    "metadata": {},
                    "output_type": "display_data"
                },
                {
                    "data": {
                        "text/html": [
                            "(1 row affected)"
                        ]
                    },
                    "metadata": {},
                    "output_type": "display_data"
                },
                {
                    "data": {
                        "text/html": [
                            "(1 row affected)"
                        ]
                    },
                    "metadata": {},
                    "output_type": "display_data"
                },
                {
                    "data": {
                        "text/html": [
                            "(1 row affected)"
                        ]
                    },
                    "metadata": {},
                    "output_type": "display_data"
                },
                {
                    "data": {
                        "text/html": [
                            "(1 row affected)"
                        ]
                    },
                    "metadata": {},
                    "output_type": "display_data"
                },
                {
                    "data": {
                        "text/html": [
                            "(1 row affected)"
                        ]
                    },
                    "metadata": {},
                    "output_type": "display_data"
                },
                {
                    "data": {
                        "text/html": [
                            "(1 row affected)"
                        ]
                    },
                    "metadata": {},
                    "output_type": "display_data"
                },
                {
                    "data": {
                        "text/html": [
                            "(1 row affected)"
                        ]
                    },
                    "metadata": {},
                    "output_type": "display_data"
                },
                {
                    "data": {
                        "text/html": [
                            "(1 row affected)"
                        ]
                    },
                    "metadata": {},
                    "output_type": "display_data"
                },
                {
                    "data": {
                        "text/html": [
                            "(1 row affected)"
                        ]
                    },
                    "metadata": {},
                    "output_type": "display_data"
                },
                {
                    "data": {
                        "text/html": [
                            "(1 row affected)"
                        ]
                    },
                    "metadata": {},
                    "output_type": "display_data"
                },
                {
                    "data": {
                        "text/html": [
                            "(1 row affected)"
                        ]
                    },
                    "metadata": {},
                    "output_type": "display_data"
                },
                {
                    "data": {
                        "text/html": [
                            "(1 row affected)"
                        ]
                    },
                    "metadata": {},
                    "output_type": "display_data"
                },
                {
                    "data": {
                        "text/html": [
                            "(1 row affected)"
                        ]
                    },
                    "metadata": {},
                    "output_type": "display_data"
                },
                {
                    "data": {
                        "text/html": [
                            "(1 row affected)"
                        ]
                    },
                    "metadata": {},
                    "output_type": "display_data"
                },
                {
                    "data": {
                        "text/html": [
                            "(1 row affected)"
                        ]
                    },
                    "metadata": {},
                    "output_type": "display_data"
                },
                {
                    "data": {
                        "text/html": [
                            "Total execution time: 00:00:00.028"
                        ]
                    },
                    "metadata": {},
                    "output_type": "display_data"
                }
            ],
            "source": [
                "-- Tạo dữ liệu ngẫu nhiên cho 100 dòng XeOto\n",
                "-- Tạo dữ liệu ngẫu nhiên cho 100 dòng XeOto\n",
                "DECLARE @i INT = 1;\n",
                "\n",
                "WHILE @i <= 100\n",
                "BEGIN\n",
                "    -- Chọn ngẫu nhiên một hãng xe từ danh sách\n",
                "    DECLARE @HangXe NVARCHAR(255);\n",
                "    SELECT TOP 1 @HangXe = HangXe\n",
                "    FROM (\n",
                "        VALUES\n",
                "            (N'Toyota'),\n",
                "            (N'Chevrolet'),\n",
                "            (N'Ford'),\n",
                "            (N'Honda'),\n",
                "            (N'Hyundai'),\n",
                "            (N'Isuzu'),\n",
                "            (N'Suzuki'),\n",
                "            (N'Kia'),\n",
                "            (N'Mitsubishi'),\n",
                "            (N'Lexus'),\n",
                "            (N'Mazda'),\n",
                "            (N'Nissan'),\n",
                "            (N'Subaru'),\n",
                "            (N'Ssangyong'),\n",
                "            (N'Land Rover')\n",
                "    ) AS HangXeList (HangXe)\n",
                "    ORDER BY NEWID();\n",
                "\n",
                "    -- Tạo một model ngẫu nhiên\n",
                "    DECLARE @Model NVARCHAR(255);\n",
                "    SET @Model = 'Model' + CAST(@i AS NVARCHAR(10));\n",
                "\n",
                "    -- Chọn ngẫu nhiên một loại xe từ danh sách\n",
                "    DECLARE @LoaiXe NVARCHAR(255);\n",
                "    SELECT TOP 1 @LoaiXe = LoaiXe\n",
                "    FROM (\n",
                "        VALUES\n",
                "            (N'4 cho (Mini)'),\n",
                "            (N'4 cho (Sedan)'),\n",
                "            (N'4 cho (Hatchback)'),\n",
                "            (N'5 cho (CUV Gam cao)'),\n",
                "            (N'7 cho (SUV Gam cao)'),\n",
                "            (N'7 cho (MPV Gam thap)'),\n",
                "            (N'Ban tai')\n",
                "    ) AS LoaiXeList (LoaiXe)\n",
                "    ORDER BY NEWID();\n",
                "\n",
                "    -- Chọn ngẫu nhiên một loại nhiên liệu\n",
                "    DECLARE @NhienLieu NVARCHAR(255);\n",
                "    SET @NhienLieu = IIF(RAND() > 0.5, N'Xăng', N'Dầu');\n",
                "\n",
                "    -- Chọn ngẫu nhiên một trạng thái\n",
                "    DECLARE @TrangThai NVARCHAR(255);\n",
                "    SET @TrangThai = IIF(RAND() > 0.5, N'Sẵn sàng', N'Đang cho thuê');\n",
                "\n",
                "    -- Thêm dòng dữ liệu vào bảng XeOto\n",
                "    INSERT INTO XeOto (HangXe, Model, LoaiXe, NhienLieu, TrangThai, GiaThue)\n",
                "    VALUES (@HangXe, @Model, @LoaiXe, @NhienLieu, @TrangThai, 13000);\n",
                "\n",
                "    SET @i = @i + 1;\n",
                "END;"
            ]
        }
    ],
    "metadata": {
        "kernelspec": {
            "display_name": "SQL",
            "language": "sql",
            "name": "SQL"
        },
        "language_info": {
            "name": "sql",
            "version": ""
        }
    },
    "nbformat": 4,
    "nbformat_minor": 2
}
